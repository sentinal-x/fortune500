{
  "nbformat": 4,
  "nbformat_minor": 0,
  "metadata": {
    "colab": {
      "provenance": []
    },
    "kernelspec": {
      "name": "python3",
      "display_name": "Python 3"
    },
    "language_info": {
      "name": "python"
    }
  },
  "cells": [
    {
      "cell_type": "code",
      "execution_count": 56,
      "metadata": {
        "id": "tk_CvzeJbe68"
      },
      "outputs": [],
      "source": [
        "import pandas as pd\n",
        "import numpy as np\n",
        "import matplotlib.pyplot as plt\n",
        "import seaborn as sns\n",
        "\n",
        "from sklearn import neighbors, metrics\n",
        "from sklearn.model_selection import train_test_split, cross_val_score\n",
        "from sklearn.preprocessing import StandardScaler\n",
        "from sklearn.neighbors import KNeighborsClassifier\n",
        "from sklearn.metrics import classification_report, accuracy_score\n",
        "from sklearn.neural_network import MLPClassifier"
      ]
    },
    {
      "cell_type": "code",
      "source": [
        "fortune = pd.read_csv('fortune500.csv')\n",
        "print(fortune.shape)"
      ],
      "metadata": {
        "id": "_zQk0d_TmKgF"
      },
      "execution_count": null,
      "outputs": []
    },
    {
      "cell_type": "code",
      "source": [
        "#ASSIGN MEGAREGIONS\n",
        "\n",
        "uppermegalopolis = [\"NY\",\"MA\",\"RI\",\"CT\",\"NH\"]\n",
        "lowermegalopolis = [\"PA\", \"NJ\", \"DE\", \"MD\", \"VA\"]\n",
        "greatlakesstates = [\"IN\", \"IL\", \"MI\", \"OH\", \"WI\", \"IA\"]\n",
        "texasgulfstates = [\"TX\", \"LA\", \"OK\"]\n",
        "piedmont = [\"MS\",\"AL\",\"GA\", \"TN\", \"SC\"]\n",
        "frontrangestates = [\"NM\", \"UT\", \"CO\", \"AZ\"]\n",
        "cascadiastates = [\"WA\", \"OR\", \"ID\"]\n",
        "\n",
        "label = fortune['hqstate']\n",
        "fortune['megaregion'] = \"None\"\n",
        "fortune.loc[label == 'CA', 'megaregion'] = \"California\"\n",
        "fortune.loc[label == 'FL', 'megaregion'] = \"Florida\"\n",
        "fortune.loc[label.isin(uppermegalopolis), 'megaregion'] = \"Upper Megalopolis\"\n",
        "fortune.loc[label.isin(lowermegalopolis), 'megaregion'] = \"Lower Megalopolis\"\n",
        "fortune.loc[label.isin(texasgulfstates), 'megaregion'] = \"Texas Gulf\"\n",
        "fortune.loc[label.isin(greatlakesstates), 'megaregion'] = \"Great Lakes\"\n",
        "fortune.loc[label.isin(piedmont), 'megaregion'] = \"Piedmont\"\n",
        "fortune.loc[label.isin(cascadiastates), 'megaregion'] = \"Cascadia\"\n",
        "fortune.loc[label.isin(frontrangestates), 'megaregion'] = \"Front Range & Arizona\"\n",
        "fortune.loc[fortune['hqcity'] == 'Buffalo', 'megaregion'] = \"Great Lakes\"\n",
        "fortune.loc[fortune['hqcity'] == 'Corning', 'megaregion'] = \"Great Lakes\"\n",
        "\n",
        "fortune['isinmegaregion'] = 0\n",
        "fortune.loc[fortune['megaregion'] != 'None', 'isinmegaregion'] = 1"
      ],
      "metadata": {
        "id": "_Tz0zFidXGen"
      },
      "execution_count": 58,
      "outputs": []
    },
    {
      "cell_type": "code",
      "source": [
        "#CHECK MEGAREGION VALUE COUNTS\n",
        "\n",
        "fortune['megaregion'].value_counts()"
      ],
      "metadata": {
        "id": "S5yp0zoKk2JM"
      },
      "execution_count": null,
      "outputs": []
    },
    {
      "cell_type": "code",
      "source": [
        "#A FEW EXAMPLE PLOTS:\n",
        "\n",
        "sns.relplot(data=fortune, x='employees', y='profits', hue='isinmegaregion', aspect=1.61)\n",
        "plt.show()\n",
        "\n",
        "sns.relplot(data=fortune, x='employees', y='profits', hue='megaregion', aspect=1.61)\n",
        "plt.show()\n",
        "\n",
        "sns.relplot(data=fortune, x='revenue', y='profits', hue='isinmegaregion', aspect=1.61)\n",
        "plt.show()\n",
        "\n",
        "sns.relplot(data=fortune, x='revenue', y='profits', hue='megaregion', aspect=1.61)\n",
        "plt.show()\n",
        "\n",
        "sns.relplot(data=fortune, x='assets', y='profits', hue='isinmegaregion', aspect=1.61)\n",
        "plt.show()\n",
        "\n",
        "sns.relplot(data=fortune, x='assets', y='profits', hue='megaregion', aspect=1.61)\n",
        "plt.show()"
      ],
      "metadata": {
        "id": "VEBGA2ZZs-as"
      },
      "execution_count": null,
      "outputs": []
    },
    {
      "cell_type": "code",
      "source": [
        "X = fortune[['employees','profits']]"
      ],
      "metadata": {
        "id": "TbUE-yWaAhnD"
      },
      "execution_count": 126,
      "outputs": []
    },
    {
      "cell_type": "code",
      "source": [
        "def wknn():\n",
        "  k_values = range(1, 50)\n",
        "  acc_scores = []\n",
        "\n",
        "  for k in k_values:\n",
        "      print(\"K: \" + str(k))\n",
        "      knn = KNeighborsClassifier(n_neighbors=k, weights = 'distance', metric = 'manhattan')\n",
        "      knn.fit(Xtr_copy, ttr)\n",
        "      yte = knn.predict(Xte_copy)\n",
        "      acc_scores.append(accuracy_score(tte, yte))\n",
        "      \n",
        "      print(\"Accuracy: \" + str(acc_scores[k - 1]))\n",
        "      #print(classification_report(tte, yte))\n",
        "      confusion_matrix = metrics.confusion_matrix(tte, yte)\n",
        "      print(confusion_matrix)\n",
        "  return acc_scores"
      ],
      "metadata": {
        "id": "P1ZM6sQ1bEMp"
      },
      "execution_count": 124,
      "outputs": []
    },
    {
      "cell_type": "code",
      "source": [
        "def normalise(Xtr, Xte):\n",
        "  scaler = StandardScaler()\n",
        "  # train the scaler on training data only\n",
        "  scaler.fit(Xtr)\n",
        "  # scale training data\n",
        "  scaledtrain = scaler.transform(Xtr)\n",
        "  # scale test data\n",
        "  scaledtest = scaler.transform(Xte)\n",
        "\n",
        "  print(np.std(scaledtrain[:, 0]))\n",
        "  print(np.std(scaledtest[:, 0]))\n",
        "\n",
        "  return scaledtrain,scaledtest"
      ],
      "metadata": {
        "id": "r-p1NDod2_1L"
      },
      "execution_count": 116,
      "outputs": []
    },
    {
      "cell_type": "code",
      "source": [
        "#W-KNN BINARY CLASSIFICATION\n",
        "\n",
        "Xtr, Xte, ttr, tte = train_test_split(X, fortune['isinmegaregion'], shuffle=True, test_size=0.60, random_state=69)\n",
        "\n",
        "Xtr_copy = Xtr.copy()\n",
        "Xte_copy = Xte.copy()\n",
        "\n",
        "binary_acc = wknn()\n",
        "\n",
        "Xtr, Xte, ttr, tte = train_test_split(X, fortune['isinmegaregion'], shuffle=True, test_size=0.60, random_state=69)\n",
        "\n",
        "Xtr_copy = Xtr.copy()\n",
        "Xte_copy = Xte.copy()\n",
        "\n",
        "Xtr, Xte = normalise(Xtr, Xte)\n",
        "normal_binary_acc = wknn()\n"
      ],
      "metadata": {
        "id": "zoWtJ0pnBmRm"
      },
      "execution_count": null,
      "outputs": []
    },
    {
      "cell_type": "code",
      "source": [
        "#W-KNN IDENTIFICATION CLASSIFICATION\n",
        "\n",
        "Xtr, Xte, ttr, tte = train_test_split(X, fortune['megaregion'], shuffle=True, test_size=0.60, random_state=69)\n",
        "\n",
        "Xtr_copy = Xtr.copy()\n",
        "Xte_copy = Xte.copy()\n",
        "\n",
        "identity_acc = wknn()\n",
        "\n",
        "Xtr, Xte, ttr, tte = train_test_split(X, fortune['megaregion'], shuffle=True, test_size=0.60, random_state=69)\n",
        "\n",
        "Xtr_copy = Xtr.copy()\n",
        "Xte_copy = Xte.copy()\n",
        "\n",
        "Xtr, Xte = normalise(Xtr, Xte)\n",
        "normal_identity_acc = wknn()"
      ],
      "metadata": {
        "id": "d27w6uIWbHKg"
      },
      "execution_count": null,
      "outputs": []
    },
    {
      "cell_type": "code",
      "source": [
        "#PLOT TRAINING DATA\n",
        "forplot = pd.DataFrame(Xtr, columns=['employees', 'revenues'])\n",
        "forplot['label'] = ttr\n",
        "sns.relplot(data=forplot, x='employees', y='revenues', hue='label', aspect=1.61)\n",
        "plt.show()"
      ],
      "metadata": {
        "id": "yEGi7F1VC75K"
      },
      "execution_count": null,
      "outputs": []
    },
    {
      "cell_type": "code",
      "source": [
        "plt.plot(k_values, binary_acc, label = \"Binary Classification Accuracy\")\n",
        "plt.plot(k_values, identity_acc, label = \"Identification Classification Accuracy\")\n",
        "plt.plot(k_values, normal_binary_acc, label = \"Normalised Binary Classification Accuracy\")\n",
        "plt.plot(k_values, normal_identity_acc, label = \"Normalised dentification Classification Accuracy\")\n",
        "plt.legend()"
      ],
      "metadata": {
        "colab": {
          "base_uri": "https://localhost:8080/",
          "height": 283
        },
        "id": "SwusIOmv3yCJ",
        "outputId": "cfa00190-31d7-4475-918a-2b481029ed8d"
      },
      "execution_count": 125,
      "outputs": [
        {
          "output_type": "execute_result",
          "data": {
            "text/plain": [
              "<matplotlib.legend.Legend at 0x7fefcff48790>"
            ]
          },
          "metadata": {},
          "execution_count": 125
        },
        {
          "output_type": "display_data",
          "data": {
            "text/plain": [
              "<Figure size 432x288 with 1 Axes>"
            ],
            "image/png": "[encoded data removed]"
          },
          "metadata": {
            "needs_background": "light"
          }
        }
      ]
    },
    {
      "cell_type": "code",
      "source": [
        "def mlp():\n",
        "  hls_values = range(1, 50)\n",
        "  mlp_acc_scores = []\n",
        "  for hls in hls_values:\n",
        "    mnn = MLPClassifier(hidden_layer_sizes=hls)\n",
        "    mnn.fit(Xtr,ttr)\n",
        "    yte = mnn.predict(Xte)\n",
        "    mlp_acc_scores.append(accuracy_score(yte,tte))\n",
        "    print(accuracy_score(yte,tte))\n",
        "    print(metrics.confusion_matrix(tte, yte))\n",
        "  return mlp_acc_scores"
      ],
      "metadata": {
        "id": "Hetv0Of8-fxe"
      },
      "execution_count": 111,
      "outputs": []
    },
    {
      "cell_type": "code",
      "source": [
        "#MLP IDENTIFICATION CLASSIFICATION\n",
        "\n",
        "Xtr, Xte, ttr, tte = train_test_split(fortune[['employees','revenues','profits','assets']], fortune['megaregion'], shuffle=True, test_size=0.20, random_state=69)\n",
        "mlp_identity_acc = mlp()\n",
        "\n",
        "Xtr, Xte, ttr, tte = train_test_split(fortune[['employees','revenues','profits','assets']], fortune['megaregion'], shuffle=True, test_size=0.20, random_state=69)\n",
        "Xtr, Xte = normalise(Xtr, Xte)\n",
        "normal_mlp_identity_acc = mlp()\n"
      ],
      "metadata": {
        "id": "WrB4TXkK9zox"
      },
      "execution_count": null,
      "outputs": []
    },
    {
      "cell_type": "code",
      "source": [
        "#MLP BINARY CLASSIFICATION\n",
        "\n",
        "Xtr, Xte, ttr, tte = train_test_split(fortune[['employees','revenues','profits','assets']], fortune['isinmegaregion'], shuffle=True, test_size=0.20, random_state=69)\n",
        "mlp_binary_acc = mlp()\n",
        "\n",
        "Xtr, Xte, ttr, tte = train_test_split(fortune[['employees','revenues','profits','assets']], fortune['isinmegaregion'], shuffle=True, test_size=0.20, random_state=69)\n",
        "Xtr, Xte = normalise(Xtr, Xte)\n",
        "normal_mlp_binary_acc = mlp()\n"
      ],
      "metadata": {
        "id": "FW8YgTmXu_JI"
      },
      "execution_count": null,
      "outputs": []
    },
    {
      "cell_type": "code",
      "source": [
        "scores = cross_val_score(mnn, Xte, tte, cv=2)\n",
        "print(f\"Accuracy: mean: {scores.mean()} standard deviation: {scores.std()}\")"
      ],
      "metadata": {
        "id": "Fdsetkqo_Deg"
      },
      "execution_count": null,
      "outputs": []
    },
    {
      "cell_type": "code",
      "source": [
        "hls_values = range(1, 50)\n",
        "plt.plot(hls_values, mlp_binary_acc, label = \"Binary Classification Accuracy\")\n",
        "plt.plot(hls_values, mlp_identity_acc, label = \"Identification Classification Accuracy\")\n",
        "plt.plot(hls_values, normal_mlp_binary_acc, label = \"Normalised Binary Classification Accuracy\")\n",
        "plt.plot(hls_values, normal_mlp_identity_acc, label = \"Normalised Identification Classification Accuracy\")\n",
        "plt.legend()"
      ],
      "metadata": {
        "id": "A4hd2Ueg91w8"
      },
      "execution_count": null,
      "outputs": []
    },
    {
      "cell_type": "markdown",
      "source": [
        "For table:"
      ],
      "metadata": {
        "id": "CkzRlvSAnQkQ"
      }
    },
    {
      "cell_type": "code",
      "source": [
        "xy = fortune[['employees','profits']]\n",
        "\n",
        "Xtr, Xte, ttr, tte = train_test_split(xy, fortune['isinmegaregion'], shuffle=True, test_size=0.60)\n",
        "\n",
        "Xtr_copy = Xtr.copy()\n",
        "Xte_copy = Xte.copy()\n",
        "\n",
        "k = 22\n",
        "\n",
        "print(\"K: \" + str(k))\n",
        "knn = KNeighborsClassifier(n_neighbors=k, weights = 'distance', metric = 'manhattan')\n",
        "knn.fit(Xtr_copy, ttr)\n",
        "yte = knn.predict(Xte_copy)\n",
        "accuracy = accuracy_score(tte, yte)\n",
        "print(\"Accuracy: \", accuracy)\n",
        "print(metrics.confusion_matrix(tte, yte))"
      ],
      "metadata": {
        "id": "d72fbXtil2FT"
      },
      "execution_count": null,
      "outputs": []
    }
  ]
}